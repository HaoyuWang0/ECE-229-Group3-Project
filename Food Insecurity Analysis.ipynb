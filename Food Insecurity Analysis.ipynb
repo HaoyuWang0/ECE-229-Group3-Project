{
 "cells": [
  {
   "cell_type": "markdown",
   "metadata": {},
   "source": [
    "# What is Food Insecurity?\n",
    "A person is food insecure if they lack consistent access to nutritious food. There are several levels of severity to food insecurity. At the highest severity households may be food insecure - at times they are uncertain of having or unable to acquire, enough food to meet the dietary needs of all their members due to insufficient money or resources. Households could have low food security - were able to obtain enough food to avoid a substantial disruption to their eating patterns by relying on resources like Federal assistance programs or local food pantries. Finally there are households that have very low food security - these households are ones that sacrificed the normal eating patterns of one or more household members in order to sustain the food intake of the rest of their members. Note that people who can only access food that does not meet the nutritional needs to sustain a healthy lifestyle are also food insecure, in other words someone only having access to burgers can still be food insecure.\n"
   ]
  },
  {
   "cell_type": "markdown",
   "metadata": {},
   "source": [
    "# What is Food Insecurity?\n",
    "A person is food insecure if they lack consistent access to nutritious food. There are several levels of severity to food insecurity. At the highest severity households may be food insecure - at times they are uncertain of having or unable to acquire, enough food to meet the dietary needs of all their members due to insufficient money or resources. Households could have low food security - were able to obtain enough food to avoid a substantial disruption to their eating patterns by relying on resources like Federal assistance programs or local food pantries. Finally there are households that have very low food security - these households are ones that sacrificed the normal eating patterns of one or more household members in order to sustain the food intake of the rest of their members. Note that people who can only access food that does not meet the nutritional needs to sustain a healthy lifestyle are also food insecure, in other words someone only having access to burgers can still be food insecure.\n"
   ]
  },
  {
   "cell_type": "raw",
   "metadata": {},
   "source": [
    "import pandas as pd \n",
    "import matplotlib.pyplot as plt \n",
    "import imageio, os\n",
    "import numpy as np\n",
    "from urllib.request import urlopen\n",
    "import json\n",
    "import math\n",
    "import plotly\n",
    "import plotly.figure_factory as ff\n",
    "import plotly.express as px\n",
    "import plotly.offline as py\n",
    "import plotly.graph_objs as go\n",
    "from plotly.offline import init_notebook_mode, iplot, plot\n",
    "from plotly import tools\n",
    "from plotly.subplots import make_subplots\n",
    "from scipy.stats import rankdata\n",
    "from urllib.request import urlopen\n",
    "\n",
    "import warnings\n",
    "warnings.filterwarnings('ignore')"
   ]
  },
  {
   "cell_type": "raw",
   "metadata": {},
   "source": [
    "data_0911 = pd.read_excel(r'data/MMG2011_2009Data_ToShare.xlsx',sheet_name='2009 County',header = 0, dtype={\"FIPS\": str})\n",
    "data_0911 = data_0911[0:3137]\n",
    "\n",
    "snap = pd.read_excel(r'data/ACSST5Y2020.S2201-2022-05-24T041743.xlsx',sheet_name='Data',header = 0, dtype={\"FIPS\": str})\n",
    "past_t = pd.read_csv('data/past_trend.csv')\n",
    "\n",
    "data_race = pd.read_csv('data/2022 food insecurity vs race .csv')"
   ]
  },
  {
   "cell_type": "markdown",
   "metadata": {},
   "source": [
    "# Food Insecurity Rate Worldwide"
   ]
  },
  {
   "cell_type": "raw",
   "metadata": {},
   "source": [
    "def draw_FIrate():\n",
    "    df = pd.DataFrame()\n",
    "    for year in range(2010, 2019):\n",
    "        year2 = str(year+2)\n",
    "        if year == 2018:\n",
    "            data = pd.read_excel(\n",
    "                'data/MMG{0}_{1}Data_ToShare.xlsx'.format(year2,year),\n",
    "                sheet_name='{} County'.format(year),\n",
    "                header = 1, \n",
    "                dtype={\"FIPS\": str})\n",
    "        else:\n",
    "            \n",
    "            data = pd.read_excel(\n",
    "                'data/MMG{0}_{1}Data_ToShare.xlsx'.format(year2,year),\n",
    "                sheet_name='{} County'.format(year),\n",
    "                header = 0, \n",
    "                dtype={\"FIPS\": str})\n",
    "        data = data[[\"FIPS\", '{} Food Insecurity Rate'.format(year)]]\n",
    "        data['FIPS'] = data['FIPS'].apply(lambda x:str(x).rjust(5,'0') )\n",
    "        data = data.rename(columns={'FIPS': \"FIPS\", '{} Food Insecurity Rate'.format(year): \"Rate of Food Insecurity\"})\n",
    "        data['year'] = year\n",
    "        \n",
    "        if df.empty:\n",
    "            df = data\n",
    "        else:\n",
    "            df = df.append(data)\n",
    "    return df"
   ]
  },
  {
   "cell_type": "raw",
   "metadata": {},
   "source": [
    "def visualization_food_insecurity_map(df):\n",
    "    with urlopen('https://raw.githubusercontent.com/plotly/datasets/master/geojson-counties-fips.json') as response:\n",
    "        counties = json.load(response)\n",
    "    colorscale = [\"#f7fbff\",\"#ebf3fb\",\"#deebf7\",\"#d2e3f3\",\"#c6dbef\",\"#b3d2e9\",\"#9ecae1\",\n",
    "                \"#85bcdb\",\"#6baed6\",\"#57a0ce\",\"#4292c6\",\"#3082be\",\"#2171b5\",\"#1361a9\",\n",
    "                \"#08519c\",\"#0b4083\",\"#08306b\"]\n",
    "    fig = px.choropleth(df, \n",
    "                        geojson=counties,\n",
    "                        locations='FIPS',\n",
    "                        color= \"Rate of Food Insecurity\",\n",
    "                        color_continuous_scale=colorscale,\n",
    "                        animation_frame='year',\n",
    "                        range_color=(0, 0.4),\n",
    "                        scope=\"usa\",\n",
    "                        labels={'fi':\"Rate of Food Insecurity\"}\n",
    "                        )\n",
    "    fig.update_layout(margin={\"r\": 0, \"t\": 0, \"l\": 0, \"b\": 0})\n",
    "    return fig"
   ]
  },
  {
   "cell_type": "raw",
   "metadata": {},
   "source": [
    "visualization_food_insecurity_map(draw_FIrate()).show()"
   ]
  },
  {
   "cell_type": "markdown",
   "metadata": {},
   "source": [
    "# How accessible is nutritious food?\n",
    "In searching for a way to easily represent rates of food insecurity one can look at the cost per meal in a county. Those with exorbitantly high costs in comparison to a low median wage show how income inequality has an extreme effect on food insecurity. The cost per meal is determined by the department of agriculture’s recommended nutritional value in a meal compared to the average cost of the constituent ingredients to make a nutritional meal. In some cases a high cost per meal is present in areas with low food insecurity; this paradox may be indicative of gentrification or the process in which low income households are moved out of an area due to how expensive it becomes. Although the remaining residents may not have a problem accessing food the underlying problem is being moved elsewhere, that hungry people still need to find food.\n"
   ]
  },
  {
   "cell_type": "markdown",
   "metadata": {},
   "source": [
    "# Cost Per Meal Countrywide in 2009"
   ]
  },
  {
   "cell_type": "raw",
   "metadata": {},
   "source": [
    "def visualization_food_insecurity_map(data):\n",
    "    with urlopen('https://raw.githubusercontent.com/plotly/datasets/master/geojson-counties-fips.json') as response:\n",
    "        counties = json.load(response)\n",
    "    map_test = data_0911[['FIPS','2009 Cost Per Meal']]\n",
    "    colorscale = [\"#f7fbff\",\"#ebf3fb\",\"#deebf7\",\"#d2e3f3\",\"#c6dbef\",\"#b3d2e9\",\"#9ecae1\",\n",
    "                  \"#85bcdb\",\"#6baed6\",\"#57a0ce\",\"#4292c6\",\"#3082be\",\"#2171b5\",\"#1361a9\",\n",
    "                  \"#08519c\",\"#0b4083\",\"#08306b\"]\n",
    "    endpts = list(np.linspace(1, 12, len(colorscale) - 1))\n",
    "    fig2 = px.choropleth(map_test,geojson=counties, locations='FIPS', color='2009 Cost Per Meal',\n",
    "                               color_continuous_scale=\"Oranges\",\n",
    "                               range_color=(min(data_0911['2009 Cost Per Meal']), max(data_0911['2009 Cost Per Meal'])),\n",
    "                               scope=\"usa\",\n",
    "                               labels={'fi':'2009 Cost Per Meal'}\n",
    "                              )\n",
    "    fig2.update_layout(margin={\"r\":0,\"t\":0,\"l\":0,\"b\":0})\n",
    "    return fig2"
   ]
  },
  {
   "cell_type": "raw",
   "metadata": {},
   "source": [
    "visualization_food_insecurity_map(data_0911)"
   ]
  },
  {
   "cell_type": "markdown",
   "metadata": {},
   "source": [
    "# Average Food Insecurity Rate Over 2009-2019 for Different States"
   ]
  },
  {
   "cell_type": "raw",
   "metadata": {},
   "source": [
    "def visualization_food_insecurity_plot(data):\n",
    "#     init_notebook_mode(connected=True)\n",
    "    data = past_t\n",
    "    data['mean'] = list(data.mean(axis=1, numeric_only=True))\n",
    "    low_fi = data[data['mean']<0.12]\n",
    "    low_fi['mean'] = low_fi['mean'] *100\n",
    "    low_fi = low_fi.round(1)\n",
    "    mid_fi = data[((data['mean']>=0.12) & (data['mean']<0.14))]\n",
    "    mid_fi['mean'] = mid_fi['mean'] *100\n",
    "    mid_fi = mid_fi.round(1)\n",
    "    high_fi = data[(data['mean']>=0.14)]\n",
    "    high_fi['mean'] = high_fi['mean'] *100\n",
    "    high_fi = high_fi.round(1)\n",
    "    x = [i for i in range(100)]\n",
    "    df_1 = low_fi\n",
    "    df_2 = mid_fi\n",
    "    df_3 = high_fi\n",
    "\n",
    "    labels = [\"low_FI States\", \"Mid_FI States\",\"High_FI States\"]\n",
    "\n",
    "    fig = tools.make_subplots(rows=1, cols=2)\n",
    "\n",
    "    trace1 = go.Bar(x=df_1.State, y=df_1[\"mean\"], showlegend=True)\n",
    "    fig.append_trace(trace1, 1, 1)\n",
    "\n",
    "    trace2 = go.Bar(x=df_2.State, y=df_2[\"mean\"], showlegend=True)\n",
    "    fig.append_trace(trace2, 1, 1)\n",
    "\n",
    "    trace3 = go.Bar(x=df_3.State, y=df_3[\"mean\"], showlegend=True)\n",
    "    fig.append_trace(trace3, 1, 1)\n",
    "    \n",
    "    buttons = []\n",
    "    for i, label in enumerate(labels):\n",
    "        visibility = [i==j for j in range(len(labels))]\n",
    "        button = dict(label =  label, method = 'update', args = [{'visible': visibility}, {'title': label}])\n",
    "        buttons.append(button)\n",
    "    updatemenus = list([dict(active=-1, x=-0.15, buttons=buttons)])\n",
    "\n",
    "    fig['layout']['title'] = 'Average Food Insecurity Rate Over 2009-2019 for Different States'\n",
    "    fig['layout']['showlegend'] = False\n",
    "    fig['layout']['updatemenus'] = updatemenus\n",
    "    return fig"
   ]
  },
  {
   "cell_type": "raw",
   "metadata": {},
   "source": [
    "visualization_food_insecurity_plot(past_t)"
   ]
  },
  {
   "cell_type": "markdown",
   "metadata": {},
   "source": [
    "# Food Insecurity Percent by Different Races \n"
   ]
  },
  {
   "cell_type": "raw",
   "metadata": {},
   "source": [
    "'''\n",
    "This graph is about the food Insecurity percent by different races in each month in 2020 in California\n",
    "data: represent each race percent encounter food insecurity compare to the overall each race in california by month\n",
    "'''\n",
    "def visualization_food_insecurity_race(data):\n",
    "    '''\n",
    "    This graph is the top ten population states in USA for food insecurity percent in 2020 by different races\n",
    "    data: each races encounter food insecurity percent in different states\n",
    "    '''\n",
    "    plt.figure(figsize=(15,8))\n",
    "    states= [\"CA\",'TX','FL','NY','PA','IL','OH','GA','NC','MI']      \n",
    "    California = {}\n",
    "    asian = [i for i in data['Asian_s'] if math.isnan(i) == False]\n",
    "    white = [i for i in data['white_s'] if math.isnan(i) == False]\n",
    "    black = [i for i in data['black_s'] if math.isnan(i) == False]\n",
    "    latino =[i for i in data['Hispanic_s'] if math.isnan(i) == False] \n",
    "    other = [i for i in data['other_s'] if math.isnan(i) == False]\n",
    "    ind = np.arange(len(states)) \n",
    "    width = 0.15\n",
    "    plt.bar(ind,asian,width,color='#c35b7e',label = 'Asian')\n",
    "    plt.bar(ind+width,white,width,color='#910736',label = 'White')\n",
    "    plt.bar(ind+width*2,black,width,color='#866ba8',label = 'Black')\n",
    "    plt.bar(ind+width*3,latino,width,color='#f13710',label = 'Hispanic or Latino')\n",
    "    plt.bar(ind+width*4,other,width,color='#f8c928',label = 'Other race')\n",
    "    plt.xticks(ind, states)\n",
    "    plt.legend(loc='upper right')\n",
    "    plt.ylabel(\"Percent%\")\n",
    "    plt.xlabel(\"States\")\n",
    "    plt.title('Food Insecurity percent in each states with different races')\n",
    "    plt.ylim(5, 50)\n",
    "    print(type(plt))\n",
    "    plt.show()"
   ]
  },
  {
   "cell_type": "raw",
   "metadata": {},
   "source": [
    "visualization_food_insecurity_race(data_race)"
   ]
  },
  {
   "cell_type": "markdown",
   "metadata": {},
   "source": [
    "# SNAP Ratio by Household Type\n"
   ]
  },
  {
   "cell_type": "raw",
   "metadata": {},
   "source": [
    "# init_notebook_mode(connected=True)\n",
    "def visualization_household(snap):\n",
    "    labels = [\"Household construction\", \"With elders or not\",\"Number of workers\", \"Ethnicity\"]\n",
    "\n",
    "    fig = plotly.subplots.make_subplots(rows=1, cols=2)\n",
    "    sizes = [snap.iloc[6, 3]] + list(snap.iloc[8:10, 3])\n",
    "    for i in range(len(sizes)):\n",
    "        sizes[i] = float(sizes[i].replace('%', ''))\n",
    "\n",
    "    trace1 = go.Bar(y=sizes, x=[snap.iloc[6, 0]] + list(snap.iloc[8:10, 0]), showlegend=True)\n",
    "\n",
    "    fig.append_trace(trace1, 1, 1)\n",
    "\n",
    "    sizes = list(snap.iloc[3:5, 3])\n",
    "    for i in range(len(sizes)):\n",
    "        sizes[i] = float(sizes[i].replace('%', ''))\n",
    "    trace2 = go.Bar(x=list(snap.iloc[3:5, 0]), y=sizes, showlegend=True)\n",
    "\n",
    "    fig.append_trace(trace2, 1, 1)\n",
    "\n",
    "    sizes = list(snap.iloc[43:46, 3])\n",
    "    for i in range(len(sizes)):\n",
    "        sizes[i] = float(sizes[i].replace('%', ''))\n",
    "    trace3 = go.Bar(x=list(snap.iloc[43:46, 0]), y=sizes, showlegend=True)\n",
    "\n",
    "    fig.append_trace(trace3, 1, 1)\n",
    "\n",
    "    sizes = list(snap.iloc[30:38, 3])\n",
    "    for i in range(len(sizes)):\n",
    "        sizes[i] = float(sizes[i].replace('%', ''))\n",
    "    trace4 = go.Bar(x=list(snap.iloc[30:38, 0]), y=sizes, showlegend=True)\n",
    "\n",
    "    fig.append_trace(trace4, 1, 1)\n",
    "\n",
    "    buttons = []\n",
    "    for i, label in enumerate(labels):\n",
    "        visibility = [i==j for j in range(len(labels))]\n",
    "        button = dict(label =  label, method = 'update', args = [{'visible': visibility}, {'title': label}])\n",
    "        buttons.append(button)\n",
    "\n",
    "    updatemenus = list([dict(active=-1, x=-0.15, buttons=buttons)])\n",
    "\n",
    "    fig['layout']['title'] = 'Snap Ratio by Household Types'\n",
    "    fig['layout']['showlegend'] = False\n",
    "    fig['layout']['updatemenus'] = updatemenus\n",
    "    print(type(fig))\n",
    "    return fig"
   ]
  },
  {
   "cell_type": "raw",
   "metadata": {},
   "source": [
    "visualization_household(snap)"
   ]
  },
  {
   "cell_type": "markdown",
   "metadata": {},
   "source": [
    "# What aspects contribute to food insecurity?\n",
    "Considering the complexity of food insecurity it can be difficult to parse what exactly contributes to this pervasive issue. In the following map we are showing a few key statistics that we have seen have a considerable correlation to food insecurity. These aspects are: the current food insecurity rate, food insecure population density, child food insecurity rate, budget shortfall, trends of food insecurity. In this way we can designate which counties are most impacted by food insecurity based on a relative scale compared to all other counties. Perhaps in this way we can help show which counties are in most dire need of intervention.\n"
   ]
  },
  {
   "cell_type": "markdown",
   "metadata": {},
   "source": [
    "# County Ranking Model"
   ]
  },
  {
   "cell_type": "raw",
   "metadata": {},
   "source": [
    "# Filename: county_ranking_model.py\n",
    "# Author: Haoyu Wang, Jiaxuan Zhang\n",
    "# Date: 05/27/2022\n",
    "#\n",
    "# Description:\n",
    "#   This file will implement a model to capture county food insecurity ranking\n",
    "# in California.It takes 5 factors into account: overall food insecurity(fi) rate,\n",
    "# density of food insecure people, child fi rate, budget shortfall and fi changes\n",
    "# in recent 2 years. The result will be visualized by a choropleth map where a\n",
    "# dark color corresponds to a severe degree of food insecurity.\n",
    "#\n",
    "# Functions:\n",
    "# prepare_data(): prepare the food insecurity data\n",
    "# rank_county(): rank the county food insecurity degree\n",
    "# result_visual(): visualize the result\n",
    "\n",
    "\n",
    "\n",
    "def prepare_data():\n",
    "    '''\n",
    "    This function will prepare the data in the following 5 categories:\n",
    "    1. FI: overall food insecurity(fi) rate\n",
    "    2. FI_Density: density of food insecure people\n",
    "    3. Child_FI: child fi rate\n",
    "    4. Budget: budget shortfall\n",
    "    5. FI_Change: fi changes in recent 2 years\n",
    "\n",
    "    :return: county FIPS, name and data above\n",
    "    :rtype: pd.DataFrame\n",
    "    '''\n",
    "\n",
    "    # Read data from csv\n",
    "    df = pd.read_csv('data/2019_fi_data.csv')\n",
    "    df_2018 = pd.read_csv('data/2018_fi_data.csv')\n",
    "    df_land_area = pd.read_csv('data/CA_land_area.csv',header=None)\n",
    "\n",
    "    # Add 2018 fi data to main df\n",
    "    df['2018 Food Insecurity Rate'] = df_2018['2018 Food Insecurity Rate']\n",
    "\n",
    "    # Convert county names\n",
    "    df['CountyName'] = df.loc[:,'County, State'].apply(lambda i: i.split(' County')[0])\n",
    "    df.drop(['County, State'],axis=1,inplace=True)\n",
    "\n",
    "    # Get land area data\n",
    "    df_land_area['LandAreaInSqMi'] = df_land_area.loc[:,1].apply(lambda i: float(i.split()[0].replace(',','')))\n",
    "    df_land_area['CountyName'] = df_land_area.loc[:,2].apply(lambda i: i.split(',')[0])\n",
    "    df_land_area.drop([0,1,2],axis=1,inplace=True)\n",
    "\n",
    "    # Add land area data to df\n",
    "    df_land_area = df_land_area.sort_values(by='CountyName').reset_index()\n",
    "    assert(list(df_land_area['CountyName']) == list(df['CountyName']))\n",
    "    df['LandAreaInSqMi'] = df_land_area['LandAreaInSqMi']\n",
    "    df.head()\n",
    "\n",
    "    # Compute FI_Density\n",
    "    df['FI_Density'] = df['# of Food Insecure Persons in 2019'] / df['LandAreaInSqMi']\n",
    "    df.drop(['# of Food Insecure Persons in 2019','LandAreaInSqMi'],axis=1,inplace=True)\n",
    "\n",
    "    # Compute FI_Change\n",
    "    df['FI_Change'] = df['2019 Food Insecurity Rate'] - df['2018 Food Insecurity Rate']\n",
    "    df.drop(['2018 Food Insecurity Rate'],axis=1,inplace=True)\n",
    "\n",
    "    # Rename and order columns\n",
    "    df = df.rename(columns={'2019 Food Insecurity Rate':'FI',\n",
    "                       '2019 Child food insecurity rate':'Child_FI',\n",
    "                       '2019 Weighted Annual Food Budget Shortfall':'Budget_Shortfall'})\n",
    "    df = df[['FIPS','CountyName','FI','FI_Density','Child_FI','Budget_Shortfall','FI_Change']]\n",
    "    \n",
    "    return df"
   ]
  },
  {
   "cell_type": "raw",
   "metadata": {},
   "source": [
    "def rank_county(df):\n",
    "    '''\n",
    "    This function will rank the counties' food insecurity degree based on the 5 factors.\n",
    "    A higher ranking score indicates the county has more severe food insecurity issues.\n",
    "    :param df: dataframe returned from prepared_data :type: pd.DataFrame\n",
    "    :return: prepared data with ranking data\n",
    "    :rtype: pd.DataFrame\n",
    "    '''\n",
    "\n",
    "    # Give a ranking for each factor\n",
    "    df['Rank_FI'] = rankdata(df['FI'])\n",
    "    df['Rank_FI_Density'] = rankdata(df['FI_Density'])\n",
    "    df['Rank_Child_FI'] = rankdata(df['Child_FI'])\n",
    "    df['Rank_Budget_Shortfall'] = rankdata(df['Budget_Shortfall'])\n",
    "    df['Rank_FI_Change'] = rankdata(df['FI_Change'])\n",
    "\n",
    "    # Compute a overall ranking\n",
    "    df['FI_Ranking_Scores'] = (df['Rank_FI']+df['Rank_FI_Density']+df['Rank_Child_FI']\\\n",
    "                         +df['Rank_Budget_Shortfall']+df['Rank_FI_Change'])/5\n",
    "\n",
    "    return df"
   ]
  },
  {
   "cell_type": "raw",
   "metadata": {},
   "source": [
    "def result_visual(df):\n",
    "    '''\n",
    "    This function will visualize the result, a choropleth map, using the ranking data.\n",
    "    :param df: dataframe returned from rank_county\n",
    "    :return: none\n",
    "    '''\n",
    "\n",
    "    # Prepare FIPS and ranking data for plot\n",
    "    df_plot = df[['FIPS','FI_Ranking_Scores']].copy()\n",
    "    df_plot['FIPS'] = df_plot['FIPS'].apply(lambda i:'0'+str(i))\n",
    "    min_score = min(list(df_plot['FI_Ranking_Scores']))\n",
    "    df_plot['Food Insecurity Degree'] = df_plot['FI_Ranking_Scores'].apply(lambda i: i - min_score)\n",
    "    max_score = max(list(df_plot['Food Insecurity Degree']))\n",
    "\n",
    "    # Get json data\n",
    "    url = 'https://raw.githubusercontent.com/plotly/datasets/master/geojson-counties-fips.json'\n",
    "    with urlopen(url) as response:\n",
    "        counties = json.load(response)\n",
    "\n",
    "    # Plot color\n",
    "    colorscale = [\"#f7fbff\",\"#ebf3fb\",\"#deebf7\",\"#d2e3f3\",\"#c6dbef\",\"#b3d2e9\",\"#9ecae1\",\n",
    "                  \"#85bcdb\",\"#6baed6\",\"#57a0ce\",\"#4292c6\",\"#3082be\",\"#2171b5\",\"#1361a9\",\n",
    "                  \"#08519c\",\"#0b4083\",\"#08306b\"]\n",
    "\n",
    "    # Plot the graph\n",
    "    fig = px.choropleth(df_plot, geojson=counties, locations='FIPS', color='Food Insecurity Degree',\n",
    "                               color_continuous_scale=colorscale,\n",
    "                               range_color=(0,max_score),\n",
    "                               scope=\"usa\"\n",
    "                              )\n",
    "    fig.update_geos(fitbounds=\"locations\", visible=False)\n",
    "    fig.update_layout(margin={\"r\":0,\"t\":0,\"l\":0,\"b\":0})\n",
    "    print(type(fig))\n",
    "    fig.show()"
   ]
  },
  {
   "cell_type": "raw",
   "metadata": {},
   "source": [
    "result_visual(rank_county(prepare_data()))"
   ]
  }
 ],
 "metadata": {
  "kernelspec": {
   "display_name": "Python 3.9.2 64-bit",
   "metadata": {
    "interpreter": {
     "hash": "b8bdd4e700647ba2b08c59e5df8b7da1dcf50a218bcd4c1bcd9b3dc92e8788e5"
    }
   },
   "name": "python3"
  },
  "language_info": {
   "name": "python",
   "nbconvert_exporter": "python",
   "version": "3.9.2-final"
  },
  "orig_nbformat": 2
 },
 "nbformat": 4,
 "nbformat_minor": 2
}